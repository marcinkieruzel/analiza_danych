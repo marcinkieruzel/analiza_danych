{
 "cells": [
  {
   "cell_type": "markdown",
   "metadata": {},
   "source": [
    "# Analiza cen kakao - Regresja liniowa i wygładzanie wykładnicze\n",
    "\n",
    "Analiza danych ICCO Daily Prices (1994-2025) z zastosowaniem:\n",
    "- Regresji liniowej\n",
    "- Wygładzania wykładniczego (Exponential Smoothing)\n",
    "- Predykcji przyszłych cen"
   ]
  },
  {
   "cell_type": "code",
   "execution_count": 2,
   "metadata": {},
   "outputs": [],
   "source": [
    "# Import bibliotek\n",
    "import pandas as pd\n",
    "import numpy as np\n",
    "import matplotlib.pyplot as plt\n",
    "import seaborn as sns\n",
    "from sklearn.linear_model import LinearRegression\n",
    "from sklearn.metrics import mean_squared_error, r2_score, mean_absolute_error\n",
    "from statsmodels.tsa.holtwinters import ExponentialSmoothing\n",
    "import warnings\n",
    "warnings.filterwarnings('ignore')\n",
    "\n",
    "# Konfiguracja wykresów\n",
    "plt.style.use('seaborn-v0_8-darkgrid')\n",
    "sns.set_palette('husl')\n",
    "%matplotlib inline"
   ]
  },
  {
   "cell_type": "markdown",
   "metadata": {},
   "source": [
    "## 1. Wczytanie i przygotowanie danych"
   ]
  },
  {
   "cell_type": "code",
   "execution_count": 5,
   "metadata": {},
   "outputs": [
    {
     "name": "stdout",
     "output_type": "stream",
     "text": [
      "Kształt danych: (7923, 5)\n",
      "\n",
      "Zakres dat: 1994-10-03 00:00:00 do 2025-08-07 00:00:00\n",
      "\n",
      "Pierwsze rekordy:\n"
     ]
    },
    {
     "data": {
      "text/html": [
       "<div>\n",
       "<style scoped>\n",
       "    .dataframe tbody tr th:only-of-type {\n",
       "        vertical-align: middle;\n",
       "    }\n",
       "\n",
       "    .dataframe tbody tr th {\n",
       "        vertical-align: top;\n",
       "    }\n",
       "\n",
       "    .dataframe thead th {\n",
       "        text-align: right;\n",
       "    }\n",
       "</style>\n",
       "<table border=\"1\" class=\"dataframe\">\n",
       "  <thead>\n",
       "    <tr style=\"text-align: right;\">\n",
       "      <th></th>\n",
       "      <th>Date</th>\n",
       "      <th>London futures (£ sterling/tonne)</th>\n",
       "      <th>New York futures (US$/tonne)</th>\n",
       "      <th>ICCO daily price (US$/tonne)</th>\n",
       "      <th>ICCO daily price (Euro/tonne)</th>\n",
       "    </tr>\n",
       "  </thead>\n",
       "  <tbody>\n",
       "    <tr>\n",
       "      <th>0</th>\n",
       "      <td>1994-10-03</td>\n",
       "      <td>997.83</td>\n",
       "      <td>1363.33</td>\n",
       "      <td>1466.24</td>\n",
       "      <td>1466.0</td>\n",
       "    </tr>\n",
       "    <tr>\n",
       "      <th>1</th>\n",
       "      <td>1994-10-04</td>\n",
       "      <td>995.50</td>\n",
       "      <td>1358.33</td>\n",
       "      <td>1462.28</td>\n",
       "      <td>1462.0</td>\n",
       "    </tr>\n",
       "    <tr>\n",
       "      <th>2</th>\n",
       "      <td>1994-10-05</td>\n",
       "      <td>969.83</td>\n",
       "      <td>1326.00</td>\n",
       "      <td>1430.57</td>\n",
       "      <td>1431.0</td>\n",
       "    </tr>\n",
       "    <tr>\n",
       "      <th>3</th>\n",
       "      <td>1994-10-06</td>\n",
       "      <td>971.83</td>\n",
       "      <td>1322.33</td>\n",
       "      <td>1430.32</td>\n",
       "      <td>1430.0</td>\n",
       "    </tr>\n",
       "    <tr>\n",
       "      <th>4</th>\n",
       "      <td>1994-10-07</td>\n",
       "      <td>961.33</td>\n",
       "      <td>1307.67</td>\n",
       "      <td>1416.46</td>\n",
       "      <td>1416.0</td>\n",
       "    </tr>\n",
       "  </tbody>\n",
       "</table>\n",
       "</div>"
      ],
      "text/plain": [
       "        Date  London futures (£ sterling/tonne)  New York futures (US$/tonne)  \\\n",
       "0 1994-10-03                             997.83                       1363.33   \n",
       "1 1994-10-04                             995.50                       1358.33   \n",
       "2 1994-10-05                             969.83                       1326.00   \n",
       "3 1994-10-06                             971.83                       1322.33   \n",
       "4 1994-10-07                             961.33                       1307.67   \n",
       "\n",
       "   ICCO daily price (US$/tonne)  ICCO daily price (Euro/tonne)  \n",
       "0                       1466.24                         1466.0  \n",
       "1                       1462.28                         1462.0  \n",
       "2                       1430.57                         1431.0  \n",
       "3                       1430.32                         1430.0  \n",
       "4                       1416.46                         1416.0  "
      ]
     },
     "execution_count": 5,
     "metadata": {},
     "output_type": "execute_result"
    }
   ],
   "source": [
    "# Wczytanie danych\n",
    "df = pd.read_csv('icco_daily_prices_1994-2025.csv', sep=';')\n",
    "\n",
    "# Konwersja dat\n",
    "df['Date'] = pd.to_datetime(df['Date'])\n",
    "\n",
    "# Sortowanie chronologicznie (od najstarszej daty)\n",
    "df = df.sort_values('Date').reset_index(drop=True)\n",
    "\n",
    "# Wyświetlenie podstawowych informacji\n",
    "print(\"Kształt danych:\", df.shape)\n",
    "print(\"\\nZakres dat:\", df['Date'].min(), \"do\", df['Date'].max())\n",
    "print(\"\\nPierwsze rekordy:\")\n",
    "df.head()"
   ]
  },
  {
   "cell_type": "code",
   "execution_count": 6,
   "metadata": {},
   "outputs": [
    {
     "name": "stdout",
     "output_type": "stream",
     "text": [
      "Statystyki opisowe dla ICCO daily price (US$/tonne):\n"
     ]
    },
    {
     "data": {
      "text/plain": [
       "count     7923.000000\n",
       "mean      2433.487096\n",
       "std       1497.553717\n",
       "min        774.100000\n",
       "25%       1561.655000\n",
       "50%       2214.970000\n",
       "75%       2779.500000\n",
       "max      11984.660000\n",
       "Name: ICCO daily price (US$/tonne), dtype: float64"
      ]
     },
     "execution_count": 6,
     "metadata": {},
     "output_type": "execute_result"
    }
   ],
   "source": [
    "# Statystyki opisowe\n",
    "print(\"Statystyki opisowe dla ICCO daily price (US$/tonne):\")\n",
    "df['ICCO daily price (US$/tonne)'].describe()"
   ]
  },
  {
   "cell_type": "code",
   "execution_count": 7,
   "metadata": {},
   "outputs": [
    {
     "name": "stdout",
     "output_type": "stream",
     "text": [
      "Braki danych:\n",
      "Date                                 0\n",
      "London futures (£ sterling/tonne)    0\n",
      "New York futures (US$/tonne)         0\n",
      "ICCO daily price (US$/tonne)         0\n",
      "ICCO daily price (Euro/tonne)        0\n",
      "dtype: int64\n"
     ]
    }
   ],
   "source": [
    "# Sprawdzenie braków danych\n",
    "print(\"Braki danych:\")\n",
    "print(df.isnull().sum())\n",
    "\n",
    "# Uzupełnienie braków (interpolacja)\n",
    "df['ICCO daily price (US$/tonne)'].fillna(method='ffill', inplace=True)"
   ]
  },
  {
   "cell_type": "markdown",
   "metadata": {},
   "source": [
    "## 2. Wizualizacja danych historycznych"
   ]
  },
  {
   "cell_type": "code",
   "execution_count": 8,
   "metadata": {},
   "outputs": [
    {
     "data": {
      "image/png": "[encoded data removed]",
      "text/plain": [
       "<Figure size 1600x600 with 1 Axes>"
      ]
     },
     "metadata": {},
     "output_type": "display_data"
    }
   ],
   "source": [
    "# Wykres cen w czasie\n",
    "plt.figure(figsize=(16, 6))\n",
    "plt.plot(df['Date'], df['ICCO daily price (US$/tonne)'], linewidth=0.8, alpha=0.8)\n",
    "plt.title('Ceny kakao ICCO (1994-2025)', fontsize=16, fontweight='bold')\n",
    "plt.xlabel('Data', fontsize=12)\n",
    "plt.ylabel('Cena (US$/tonne)', fontsize=12)\n",
    "plt.grid(True, alpha=0.3)\n",
    "plt.tight_layout()\n",
    "plt.show()"
   ]
  },
  {
   "cell_type": "code",
   "execution_count": null,
   "metadata": {},
   "outputs": [],
   "source": [
    "# Analiza rozkładu cen\n",
    "fig, axes = plt.subplots(1, 2, figsize=(16, 5))\n",
    "\n",
    "# Histogram\n",
    "axes[0].hist(df['ICCO daily price (US$/tonne)'], bins=50, edgecolor='black', alpha=0.7)\n",
    "axes[0].set_title('Rozkład cen kakao', fontsize=14, fontweight='bold')\n",
    "axes[0].set_xlabel('Cena (US$/tonne)', fontsize=12)\n",
    "axes[0].set_ylabel('Częstość', fontsize=12)\n",
    "axes[0].grid(True, alpha=0.3)\n",
    "\n",
    "# Boxplot\n",
    "axes[1].boxplot(df['ICCO daily price (US$/tonne)'], vert=True)\n",
    "axes[1].set_title('Wykres pudełkowy cen kakao', fontsize=14, fontweight='bold')\n",
    "axes[1].set_ylabel('Cena (US$/tonne)', fontsize=12)\n",
    "axes[1].grid(True, alpha=0.3)\n",
    "\n",
    "plt.tight_layout()\n",
    "plt.show()"
   ]
  },
  {
   "cell_type": "markdown",
   "metadata": {},
   "source": [
    "## 3. Regresja liniowa"
   ]
  },
  {
   "cell_type": "code",
   "execution_count": null,
   "metadata": {},
   "outputs": [],
   "source": [
    "# Przygotowanie danych do regresji\n",
    "# Utworzenie zmiennej numerycznej reprezentującej dni od początku\n",
    "df['days_from_start'] = (df['Date'] - df['Date'].min()).dt.days\n",
    "\n",
    "# Podział na dane treningowe (80%) i testowe (20%)\n",
    "train_size = int(len(df) * 0.8)\n",
    "train_df = df[:train_size]\n",
    "test_df = df[train_size:]\n",
    "\n",
    "print(f\"Dane treningowe: {len(train_df)} rekordów\")\n",
    "print(f\"Dane testowe: {len(test_df)} rekordów\")"
   ]
  },
  {
   "cell_type": "code",
   "execution_count": null,
   "metadata": {},
   "outputs": [],
   "source": [
    "# Budowa modelu regresji liniowej\n",
    "X_train = train_df[['days_from_start']]\n",
    "y_train = train_df['ICCO daily price (US$/tonne)']\n",
    "\n",
    "X_test = test_df[['days_from_start']]\n",
    "y_test = test_df['ICCO daily price (US$/tonne)']\n",
    "\n",
    "# Trenowanie modelu\n",
    "lr_model = LinearRegression()\n",
    "lr_model.fit(X_train, y_train)\n",
    "\n",
    "# Predykcje\n",
    "y_train_pred = lr_model.predict(X_train)\n",
    "y_test_pred = lr_model.predict(X_test)\n",
    "\n",
    "print(\"Model regresji liniowej:\")\n",
    "print(f\"Współczynnik nachylenia: {lr_model.coef_[0]:.4f}\")\n",
    "print(f\"Wyraz wolny: {lr_model.intercept_:.2f}\")"
   ]
  },
  {
   "cell_type": "code",
   "execution_count": null,
   "metadata": {},
   "outputs": [],
   "source": [
    "# Ocena modelu regresji liniowej\n",
    "lr_train_mse = mean_squared_error(y_train, y_train_pred)\n",
    "lr_test_mse = mean_squared_error(y_test, y_test_pred)\n",
    "lr_train_r2 = r2_score(y_train, y_train_pred)\n",
    "lr_test_r2 = r2_score(y_test, y_test_pred)\n",
    "lr_test_mae = mean_absolute_error(y_test, y_test_pred)\n",
    "\n",
    "print(\"=\" * 60)\n",
    "print(\"WYNIKI REGRESJI LINIOWEJ\")\n",
    "print(\"=\" * 60)\n",
    "print(f\"\\nDane treningowe:\")\n",
    "print(f\"  MSE:  {lr_train_mse:.2f}\")\n",
    "print(f\"  RMSE: {np.sqrt(lr_train_mse):.2f}\")\n",
    "print(f\"  R²:   {lr_train_r2:.4f}\")\n",
    "\n",
    "print(f\"\\nDane testowe:\")\n",
    "print(f\"  MSE:  {lr_test_mse:.2f}\")\n",
    "print(f\"  RMSE: {np.sqrt(lr_test_mse):.2f}\")\n",
    "print(f\"  MAE:  {lr_test_mae:.2f}\")\n",
    "print(f\"  R²:   {lr_test_r2:.4f}\")\n",
    "print(\"=\" * 60)"
   ]
  },
  {
   "cell_type": "code",
   "execution_count": null,
   "metadata": {},
   "outputs": [],
   "source": [
    "# Predykcja na przyszłość (90 dni)\n",
    "future_days = 90\n",
    "last_day = df['days_from_start'].max()\n",
    "future_days_array = np.arange(last_day + 1, last_day + future_days + 1).reshape(-1, 1)\n",
    "future_dates = pd.date_range(start=df['Date'].max() + pd.Timedelta(days=1), periods=future_days)\n",
    "lr_future_pred = lr_model.predict(future_days_array)\n",
    "\n",
    "print(f\"\\nPredykcja cen na najbliższe {future_days} dni (regresja liniowa):\")\n",
    "print(f\"Przewidywana cena za {future_days} dni: ${lr_future_pred[-1]:.2f}/tonne\")"
   ]
  },
  {
   "cell_type": "code",
   "execution_count": null,
   "metadata": {},
   "outputs": [],
   "source": [
    "# Wizualizacja regresji liniowej\n",
    "plt.figure(figsize=(16, 6))\n",
    "\n",
    "# Dane rzeczywiste\n",
    "plt.plot(df['Date'], df['ICCO daily price (US$/tonne)'], \n",
    "         label='Dane rzeczywiste', linewidth=1, alpha=0.6, color='blue')\n",
    "\n",
    "# Predykcje na danych treningowych\n",
    "plt.plot(train_df['Date'], y_train_pred, \n",
    "         label='Regresja - dane treningowe', linewidth=2, color='green', linestyle='--')\n",
    "\n",
    "# Predykcje na danych testowych\n",
    "plt.plot(test_df['Date'], y_test_pred, \n",
    "         label='Regresja - dane testowe', linewidth=2, color='orange', linestyle='--')\n",
    "\n",
    "# Predykcja przyszłości\n",
    "plt.plot(future_dates, lr_future_pred, \n",
    "         label='Predykcja (90 dni)', linewidth=2, color='red', linestyle=':')\n",
    "\n",
    "plt.axvline(x=test_df['Date'].iloc[0], color='gray', linestyle=':', alpha=0.5, label='Początek zbioru testowego')\n",
    "plt.axvline(x=df['Date'].max(), color='purple', linestyle=':', alpha=0.5, label='Początek predykcji')\n",
    "\n",
    "plt.title('Regresja liniowa - Ceny kakao ICCO', fontsize=16, fontweight='bold')\n",
    "plt.xlabel('Data', fontsize=12)\n",
    "plt.ylabel('Cena (US$/tonne)', fontsize=12)\n",
    "plt.legend(loc='best', fontsize=10)\n",
    "plt.grid(True, alpha=0.3)\n",
    "plt.tight_layout()\n",
    "plt.show()"
   ]
  },
  {
   "cell_type": "markdown",
   "metadata": {},
   "source": [
    "## 4. Wygładzanie wykładnicze (Exponential Smoothing)"
   ]
  },
  {
   "cell_type": "code",
   "execution_count": null,
   "metadata": {},
   "outputs": [],
   "source": [
    "# Przygotowanie serii czasowej\n",
    "ts_train = train_df.set_index('Date')['ICCO daily price (US$/tonne)']\n",
    "ts_test = test_df.set_index('Date')['ICCO daily price (US$/tonne)']\n",
    "\n",
    "# Model wygładzania wykładniczego z trendem i sezonowością\n",
    "# Używamy Holt-Winters z sezonowością roczną (252 dni handlowe)\n",
    "es_model = ExponentialSmoothing(\n",
    "    ts_train,\n",
    "    trend='add',\n",
    "    seasonal='add',\n",
    "    seasonal_periods=252  # Około 252 dni handlowych w roku\n",
    ")\n",
    "\n",
    "es_fitted = es_model.fit(optimized=True)\n",
    "\n",
    "print(\"Model wygładzania wykładniczego (Holt-Winters):\")\n",
    "print(f\"Alpha (poziom): {es_fitted.params['smoothing_level']:.4f}\")\n",
    "print(f\"Beta (trend): {es_fitted.params['smoothing_trend']:.4f}\")\n",
    "print(f\"Gamma (sezonowość): {es_fitted.params['smoothing_seasonal']:.4f}\")"
   ]
  },
  {
   "cell_type": "code",
   "execution_count": null,
   "metadata": {},
   "outputs": [],
   "source": [
    "# Predykcje na zbiorze testowym\n",
    "es_test_pred = es_fitted.forecast(steps=len(ts_test))\n",
    "es_train_pred = es_fitted.fittedvalues\n",
    "\n",
    "# Ocena modelu\n",
    "es_train_mse = mean_squared_error(ts_train, es_train_pred)\n",
    "es_test_mse = mean_squared_error(ts_test, es_test_pred)\n",
    "es_train_r2 = r2_score(ts_train, es_train_pred)\n",
    "es_test_r2 = r2_score(ts_test, es_test_pred)\n",
    "es_test_mae = mean_absolute_error(ts_test, es_test_pred)\n",
    "\n",
    "print(\"=\" * 60)\n",
    "print(\"WYNIKI WYGŁADZANIA WYKŁADNICZEGO\")\n",
    "print(\"=\" * 60)\n",
    "print(f\"\\nDane treningowe:\")\n",
    "print(f\"  MSE:  {es_train_mse:.2f}\")\n",
    "print(f\"  RMSE: {np.sqrt(es_train_mse):.2f}\")\n",
    "print(f\"  R²:   {es_train_r2:.4f}\")\n",
    "\n",
    "print(f\"\\nDane testowe:\")\n",
    "print(f\"  MSE:  {es_test_mse:.2f}\")\n",
    "print(f\"  RMSE: {np.sqrt(es_test_mse):.2f}\")\n",
    "print(f\"  MAE:  {es_test_mae:.2f}\")\n",
    "print(f\"  R²:   {es_test_r2:.4f}\")\n",
    "print(\"=\" * 60)"
   ]
  },
  {
   "cell_type": "code",
   "execution_count": null,
   "metadata": {},
   "outputs": [],
   "source": [
    "# Predykcja na przyszłość (90 dni)\n",
    "es_future_pred = es_fitted.forecast(steps=len(ts_test) + future_days)\n",
    "es_future_only = es_future_pred[len(ts_test):]\n",
    "\n",
    "print(f\"\\nPredykcja cen na najbliższe {future_days} dni (wygładzanie wykładnicze):\")\n",
    "print(f\"Przewidywana cena za {future_days} dni: ${es_future_only.iloc[-1]:.2f}/tonne\")"
   ]
  },
  {
   "cell_type": "code",
   "execution_count": null,
   "metadata": {},
   "outputs": [],
   "source": [
    "# Wizualizacja wygładzania wykładniczego\n",
    "plt.figure(figsize=(16, 6))\n",
    "\n",
    "# Dane rzeczywiste\n",
    "plt.plot(df['Date'], df['ICCO daily price (US$/tonne)'], \n",
    "         label='Dane rzeczywiste', linewidth=1, alpha=0.6, color='blue')\n",
    "\n",
    "# Predykcje na danych treningowych\n",
    "plt.plot(ts_train.index, es_train_pred, \n",
    "         label='ES - dane treningowe', linewidth=2, color='green', linestyle='--')\n",
    "\n",
    "# Predykcje na danych testowych\n",
    "plt.plot(ts_test.index, es_test_pred, \n",
    "         label='ES - dane testowe', linewidth=2, color='orange', linestyle='--')\n",
    "\n",
    "# Predykcja przyszłości\n",
    "plt.plot(future_dates, es_future_only, \n",
    "         label='Predykcja (90 dni)', linewidth=2, color='red', linestyle=':')\n",
    "\n",
    "plt.axvline(x=test_df['Date'].iloc[0], color='gray', linestyle=':', alpha=0.5, label='Początek zbioru testowego')\n",
    "plt.axvline(x=df['Date'].max(), color='purple', linestyle=':', alpha=0.5, label='Początek predykcji')\n",
    "\n",
    "plt.title('Wygładzanie wykładnicze (Holt-Winters) - Ceny kakao ICCO', fontsize=16, fontweight='bold')\n",
    "plt.xlabel('Data', fontsize=12)\n",
    "plt.ylabel('Cena (US$/tonne)', fontsize=12)\n",
    "plt.legend(loc='best', fontsize=10)\n",
    "plt.grid(True, alpha=0.3)\n",
    "plt.tight_layout()\n",
    "plt.show()"
   ]
  },
  {
   "cell_type": "markdown",
   "metadata": {},
   "source": [
    "## 5. Porównanie modeli"
   ]
  },
  {
   "cell_type": "code",
   "execution_count": null,
   "metadata": {},
   "outputs": [],
   "source": [
    "# Porównanie błędów predykcji\n",
    "comparison_df = pd.DataFrame({\n",
    "    'Model': ['Regresja liniowa', 'Wygładzanie wykładnicze'],\n",
    "    'RMSE (test)': [np.sqrt(lr_test_mse), np.sqrt(es_test_mse)],\n",
    "    'MAE (test)': [lr_test_mae, es_test_mae],\n",
    "    'R² (test)': [lr_test_r2, es_test_r2]\n",
    "})\n",
    "\n",
    "print(\"\\nPorównanie modeli:\")\n",
    "print(comparison_df.to_string(index=False))"
   ]
  },
  {
   "cell_type": "code",
   "execution_count": null,
   "metadata": {},
   "outputs": [],
   "source": [
    "# Wykres porównawczy błędów\n",
    "fig, axes = plt.subplots(1, 3, figsize=(18, 5))\n",
    "\n",
    "metrics = ['RMSE (test)', 'MAE (test)', 'R² (test)']\n",
    "colors = ['#FF6B6B', '#4ECDC4', '#45B7D1']\n",
    "\n",
    "for idx, (metric, color) in enumerate(zip(metrics, colors)):\n",
    "    axes[idx].bar(comparison_df['Model'], comparison_df[metric], color=color, alpha=0.7, edgecolor='black')\n",
    "    axes[idx].set_title(metric, fontsize=14, fontweight='bold')\n",
    "    axes[idx].set_ylabel('Wartość', fontsize=12)\n",
    "    axes[idx].grid(True, alpha=0.3, axis='y')\n",
    "    axes[idx].tick_params(axis='x', rotation=15)\n",
    "    \n",
    "    # Dodanie wartości na słupkach\n",
    "    for i, v in enumerate(comparison_df[metric]):\n",
    "        axes[idx].text(i, v, f'{v:.2f}', ha='center', va='bottom', fontweight='bold')\n",
    "\n",
    "plt.tight_layout()\n",
    "plt.show()"
   ]
  },
  {
   "cell_type": "code",
   "execution_count": null,
   "metadata": {},
   "outputs": [],
   "source": [
    "# Wizualizacja porównawcza obu modeli\n",
    "plt.figure(figsize=(16, 8))\n",
    "\n",
    "# Dane rzeczywiste\n",
    "plt.plot(df['Date'], df['ICCO daily price (US$/tonne)'], \n",
    "         label='Dane rzeczywiste', linewidth=1.5, alpha=0.7, color='black')\n",
    "\n",
    "# Regresja liniowa - test\n",
    "plt.plot(test_df['Date'], y_test_pred, \n",
    "         label='Regresja liniowa (test)', linewidth=2, color='blue', linestyle='--')\n",
    "\n",
    "# Wygładzanie wykładnicze - test\n",
    "plt.plot(ts_test.index, es_test_pred, \n",
    "         label='Wygładzanie wykładnicze (test)', linewidth=2, color='green', linestyle='--')\n",
    "\n",
    "# Predykcje przyszłości - regresja\n",
    "plt.plot(future_dates, lr_future_pred, \n",
    "         label='LR - Predykcja (90 dni)', linewidth=2.5, color='blue', linestyle=':', alpha=0.8)\n",
    "\n",
    "# Predykcje przyszłości - ES\n",
    "plt.plot(future_dates, es_future_only, \n",
    "         label='ES - Predykcja (90 dni)', linewidth=2.5, color='green', linestyle=':', alpha=0.8)\n",
    "\n",
    "plt.axvline(x=test_df['Date'].iloc[0], color='gray', linestyle=':', alpha=0.5, linewidth=2, label='Początek testów')\n",
    "plt.axvline(x=df['Date'].max(), color='purple', linestyle=':', alpha=0.5, linewidth=2, label='Początek predykcji')\n",
    "\n",
    "plt.title('Porównanie modeli: Regresja liniowa vs Wygładzanie wykładnicze', fontsize=16, fontweight='bold')\n",
    "plt.xlabel('Data', fontsize=12)\n",
    "plt.ylabel('Cena (US$/tonne)', fontsize=12)\n",
    "plt.legend(loc='best', fontsize=11)\n",
    "plt.grid(True, alpha=0.3)\n",
    "plt.tight_layout()\n",
    "plt.show()"
   ]
  },
  {
   "cell_type": "code",
   "execution_count": null,
   "metadata": {},
   "outputs": [],
   "source": [
    "# Analiza błędów predykcji\n",
    "lr_errors = y_test - y_test_pred\n",
    "es_errors = ts_test - es_test_pred\n",
    "\n",
    "fig, axes = plt.subplots(2, 2, figsize=(16, 10))\n",
    "\n",
    "# Błędy regresji liniowej w czasie\n",
    "axes[0, 0].plot(test_df['Date'], lr_errors, color='blue', alpha=0.7)\n",
    "axes[0, 0].axhline(y=0, color='red', linestyle='--', linewidth=2)\n",
    "axes[0, 0].set_title('Błędy predykcji - Regresja liniowa', fontsize=14, fontweight='bold')\n",
    "axes[0, 0].set_xlabel('Data', fontsize=12)\n",
    "axes[0, 0].set_ylabel('Błąd (US$/tonne)', fontsize=12)\n",
    "axes[0, 0].grid(True, alpha=0.3)\n",
    "\n",
    "# Histogram błędów - regresja\n",
    "axes[0, 1].hist(lr_errors, bins=30, color='blue', alpha=0.7, edgecolor='black')\n",
    "axes[0, 1].set_title('Rozkład błędów - Regresja liniowa', fontsize=14, fontweight='bold')\n",
    "axes[0, 1].set_xlabel('Błąd (US$/tonne)', fontsize=12)\n",
    "axes[0, 1].set_ylabel('Częstość', fontsize=12)\n",
    "axes[0, 1].grid(True, alpha=0.3)\n",
    "\n",
    "# Błędy ES w czasie\n",
    "axes[1, 0].plot(ts_test.index, es_errors, color='green', alpha=0.7)\n",
    "axes[1, 0].axhline(y=0, color='red', linestyle='--', linewidth=2)\n",
    "axes[1, 0].set_title('Błędy predykcji - Wygładzanie wykładnicze', fontsize=14, fontweight='bold')\n",
    "axes[1, 0].set_xlabel('Data', fontsize=12)\n",
    "axes[1, 0].set_ylabel('Błąd (US$/tonne)', fontsize=12)\n",
    "axes[1, 0].grid(True, alpha=0.3)\n",
    "\n",
    "# Histogram błędów - ES\n",
    "axes[1, 1].hist(es_errors, bins=30, color='green', alpha=0.7, edgecolor='black')\n",
    "axes[1, 1].set_title('Rozkład błędów - Wygładzanie wykładnicze', fontsize=14, fontweight='bold')\n",
    "axes[1, 1].set_xlabel('Błąd (US$/tonne)', fontsize=12)\n",
    "axes[1, 1].set_ylabel('Częstość', fontsize=12)\n",
    "axes[1, 1].grid(True, alpha=0.3)\n",
    "\n",
    "plt.tight_layout()\n",
    "plt.show()"
   ]
  },
  {
   "cell_type": "markdown",
   "metadata": {},
   "source": [
    "## 6. Podsumowanie i wnioski"
   ]
  },
  {
   "cell_type": "code",
   "execution_count": null,
   "metadata": {},
   "outputs": [],
   "source": [
    "print(\"=\" * 80)\n",
    "print(\"PODSUMOWANIE ANALIZY CEN KAKAO\")\n",
    "print(\"=\" * 80)\n",
    "\n",
    "print(\"\\n1. DANE:\")\n",
    "print(f\"   - Zakres: {df['Date'].min().strftime('%Y-%m-%d')} do {df['Date'].max().strftime('%Y-%m-%d')}\")\n",
    "print(f\"   - Liczba obserwacji: {len(df)}\")\n",
    "print(f\"   - Średnia cena: ${df['ICCO daily price (US$/tonne)'].mean():.2f}/tonne\")\n",
    "print(f\"   - Cena minimalna: ${df['ICCO daily price (US$/tonne)'].min():.2f}/tonne\")\n",
    "print(f\"   - Cena maksymalna: ${df['ICCO daily price (US$/tonne)'].max():.2f}/tonne\")\n",
    "\n",
    "print(\"\\n2. REGRESJA LINIOWA:\")\n",
    "print(f\"   - RMSE (test): {np.sqrt(lr_test_mse):.2f}\")\n",
    "print(f\"   - MAE (test): {lr_test_mae:.2f}\")\n",
    "print(f\"   - R² (test): {lr_test_r2:.4f}\")\n",
    "print(f\"   - Trend: {'wzrostowy' if lr_model.coef_[0] > 0 else 'spadkowy'} ({lr_model.coef_[0]:.4f} $/dzień)\")\n",
    "print(f\"   - Predykcja (90 dni): ${lr_future_pred[-1]:.2f}/tonne\")\n",
    "\n",
    "print(\"\\n3. WYGŁADZANIE WYKŁADNICZE:\")\n",
    "print(f\"   - RMSE (test): {np.sqrt(es_test_mse):.2f}\")\n",
    "print(f\"   - MAE (test): {es_test_mae:.2f}\")\n",
    "print(f\"   - R² (test): {es_test_r2:.4f}\")\n",
    "print(f\"   - Predykcja (90 dni): ${es_future_only.iloc[-1]:.2f}/tonne\")\n",
    "\n",
    "print(\"\\n4. NAJLEPSZY MODEL:\")\n",
    "if es_test_rmse := np.sqrt(es_test_mse) < np.sqrt(lr_test_mse):\n",
    "    print(\"   Wygładzanie wykładnicze (niższy RMSE)\")\n",
    "    improvement = ((np.sqrt(lr_test_mse) - np.sqrt(es_test_mse)) / np.sqrt(lr_test_mse)) * 100\n",
    "    print(f\"   Poprawa o {improvement:.2f}% w porównaniu do regresji liniowej\")\n",
    "else:\n",
    "    print(\"   Regresja liniowa (niższy RMSE)\")\n",
    "    improvement = ((np.sqrt(es_test_mse) - np.sqrt(lr_test_mse)) / np.sqrt(es_test_mse)) * 100\n",
    "    print(f\"   Poprawa o {improvement:.2f}% w porównaniu do wygładzania wykładniczego\")\n",
    "\n",
    "print(\"\\n5. WNIOSKI:\")\n",
    "print(\"   - Ceny kakao wykazują wyraźną zmienność i trendy sezonowe\")\n",
    "print(\"   - Wygładzanie wykładnicze lepiej radzi sobie z sezonowością\")\n",
    "print(\"   - Regresja liniowa pokazuje ogólny trend długoterminowy\")\n",
    "print(\"   - Oba modele mogą być użyte komplementarnie dla lepszych prognoz\")\n",
    "\n",
    "print(\"\\n\" + \"=\" * 80)"
   ]
  }
 ],
 "metadata": {
  "kernelspec": {
   "display_name": "env",
   "language": "python",
   "name": "python3"
  },
  "language_info": {
   "codemirror_mode": {
    "name": "ipython",
    "version": 3
   },
   "file_extension": ".py",
   "mimetype": "text/x-python",
   "name": "python",
   "nbconvert_exporter": "python",
   "pygments_lexer": "ipython3",
   "version": "3.12.3"
  }
 },
 "nbformat": 4,
 "nbformat_minor": 4
}
